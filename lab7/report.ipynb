{
 "cells": [
  {
   "cell_type": "markdown",
   "metadata": {},
   "source": [
    "# <center>Rozwiązywanie układów równań</center>"
   ]
  },
  {
   "cell_type": "markdown",
   "metadata": {},
   "source": [
    "Instrukcja:\n",
    "Na zajęciach należy wykonać poniższe zadania, a następnie sporządzić sprawozdanie zawierające odpowiedzi (w postaci kodu) z komentarzami w środowisku Jupyter Notebook i umieścić je na platformie e-learningowej.   "
   ]
  },
  {
   "cell_type": "code",
   "execution_count": 1,
   "metadata": {},
   "outputs": [],
   "source": [
    "import main\n",
    "import scipy as sp\n",
    "import numpy as np\n",
    "import matplotlib\n",
    "import matplotlib.pyplot as plt"
   ]
  },
  {
   "cell_type": "markdown",
   "metadata": {},
   "source": [
    "**Cel zajęć:** Celem zajęć jest zapoznanie się z numerycznymi metodami rozwiązywania układów równań liniowych w postaci macierzowej, z rzadkimi macierzami prostokątnymi. Czyli dana jest macierz $\\mathbf{A}$ prostokątna o wymiarach ($m\\times n$) i [rzadka](https://pl.wikipedia.org/wiki/Macierz_rzadka) oraz wektor $\\mathbf{b}$ ($m\\times 1$), należy rozwiązać układ równań postaci:    \n",
    "$\n",
    "\\mathbf{Ax}=\\mathbf{b}\n",
    "$ \n",
    "  \n",
    "gdzie $\\mathbf{A}$ to macierz współczynników z lewej strony równania, wektor $\\mathbf{x}$ jest wektorem zmiennych a wektor $\\mathbf{b}$ wyników prawej strony równania.  \n",
    "\n",
    "Do oceny jakości rozwiązania będziemy wykorzystywać residuum (ang. *residual*)\n",
    "$\n",
    "\\mathbf{r}=\\mathbf{b}-\\mathbf{Ax}\n",
    "$ \n",
    "  "
   ]
  },
  {
   "cell_type": "markdown",
   "metadata": {},
   "source": [
    "***Zadanie 1***   \n",
    "Dane jest $m = 50$ oraz $n = 12$. Zdefiniuję funkcję *spare_matrixAbt*, która zwróci:\n",
    "- wektor $\\mathbf{t}$ typu $m\\times 1$ za pomocą komendy linspace tak aby wartości tego wektora należay do przedzaiłu $[0,1]$,\n",
    "- wektor $\\mathbf{b}$ typu $m \\times 1$, którego wartości dane są funkcją $\\cos(4t)$ oraz\n",
    "- macierz $\\mathbf{A}$ postaci: \n",
    "$$\n",
    "\\left[\\begin{matrix}\n",
    "1 & t_0 & t_{0}^{2} & \\cdots & t_{0}^{n-1} \\\\\n",
    "1 & t_1 & t_{1}^{2} & \\cdots & t_{1}^{n-1} \\\\\n",
    "1 & t_2 & t_{2}^{2} & \\cdots & t_{2}^{n-1} \\\\\n",
    "\\vdots & \\cdots & \\ddots & \\cdots & \\vdots \\\\\n",
    "1 & t_{m-1} & t_{m-1}^{2} & \\cdots & t_{m-1}^{n-1} \n",
    "\\end{matrix}\\right]\n",
    "$$  \n",
    "  \n",
    "**Wskazówka**: Do definicji macierzy $\\mathbf{A}$ należy użyć funkcji [vander](https://docs.scipy.org/doc/numpy-1.13.0/reference/generated/numpy.vander.html) oraz [fliplr](https://docs.scipy.org/doc/numpy-1.15.0/reference/generated/numpy.fliplr.html).  \n",
    " \n",
    "  \n",
    "Rozwiąż układ równań $\\mathbf{Ax}=\\mathbf{b}$ postaci:\n",
    "$$\n",
    "\\left[\\begin{matrix}\n",
    "1 & t_0 & t_{0}^{2} & \\cdots & t_{0}^{n-1} \\\\\n",
    "1 & t_1 & t_{1}^{2} & \\cdots & t_{1}^{n-1} \\\\\n",
    "1 & t_2 & t_{2}^{2} & \\cdots & t_{2}^{n-1} \\\\\n",
    "\\vdots & \\cdots & \\ddots & \\cdots & \\vdots \\\\\n",
    "1 & t_{m-1} & t_{m-1}^{2} & \\cdots & t_{m-1}^{n-1} \n",
    "\\end{matrix}\\right]\n",
    "\\left[\\begin{matrix}\n",
    "x_0\\\\\n",
    "x_1\\\\\n",
    "x_2\\\\\n",
    "\\vdots\\\\\n",
    "x_{n-1}\n",
    "\\end{matrix}\\right] =\n",
    "\\left[\\begin{matrix}\n",
    "b_0\\\\\n",
    "b_1\\\\\n",
    "b_2\\\\\n",
    "\\vdots\\\\\n",
    "b_{m-1}\n",
    "\\end{matrix}\\right]\n",
    "$$ \n",
    "za pomocą następujacych metod:\n",
    "\n",
    "1. Przekształcenia układu równań do postaci: $\\mathbf{A}^{\\mathrm{T}}\\mathbf{Ax}=\\mathbf{A}^{\\mathrm{T}}\\mathbf{b}$ (zdefinuj funkcję *square_from_rectan* która przekształci odpowiednio macierz A i wektor b)  i stosując funkcję solve, z poprzednich zajęć.\n",
    "2. Domyślnej metody Pythona rozwiązywania układów równań z macierzą prostokątną [lstsq](https://docs.scipy.org/doc/numpy-1.13.0/reference/generated/numpy.linalg.lstsq.html#numpy-linalg-lstsq).  \n",
    "3. Rozkładu QR rozwiązywania układów równań podanego na wykładzie. Do dokonania rozkładu QR w Pythonie używa się funkcji [qr](https://docs.scipy.org/doc/numpy-1.15.1/reference/generated/numpy.linalg.qr.html), natomiast do rozwiązywania układu równań z macierzą trójkątną służy funkcja [solve_triangular](https://docs.scipy.org/doc/scipy/reference/generated/scipy.linalg.solve_triangular.html)\n",
    "4. Metody rozkładu SVD rozwiązywania układów równań podanego na wykładzie.\n",
    "5. Porównaj czasy wykonania wszystkich metod oraz zużycie pamięci.\n",
    "6. Porównaj jakość otrzymanych wyników"
   ]
  },
  {
   "cell_type": "code",
   "execution_count": 39,
   "metadata": {},
   "outputs": [
    {
     "name": "stdout",
     "output_type": "stream",
     "text": [
      "Metoda np.linalg.solve:\n",
      "35.6 µs ± 4.42 µs per loop (mean ± std. dev. of 10 runs, 100 loops each)\n",
      "Norma residuum: 2.18868861352057e-14\n",
      "\n",
      "Metoda np.linalg.lstsq:\n",
      "The slowest run took 10.95 times longer than the fastest. This could mean that an intermediate result is being cached.\n",
      "168 µs ± 202 µs per loop (mean ± std. dev. of 10 runs, 100 loops each)\n",
      "Norma residuum: None\n",
      "\n",
      "Metoda rozkładu QR:\n",
      "139 µs ± 18.5 µs per loop (mean ± std. dev. of 10 runs, 100 loops each)\n",
      "Norma residuum: 6.052660608233687e-14\n",
      "\n",
      "Metoda rozkładu SVD:\n",
      "145 µs ± 64.5 µs per loop (mean ± std. dev. of 10 runs, 100 loops each)\n",
      "Norma residuum: 7.999154773036775e-09\n"
     ]
    }
   ],
   "source": [
    "m = 50\n",
    "n = 12\n",
    "\n",
    "A, b = main.spare_matrix_Abt(m, n)\n",
    "A1, b1 = main.square_from_rectan(A, b)\n",
    "\n",
    "solution1 = np.linalg.solve(A1, b1)\n",
    "norm1 = main.residual_norm(A1, solution1, b1)\n",
    "print('Metoda np.linalg.solve:')\n",
    "tt1 = %timeit -r 10 -n 100 -o main.square_from_rectan(A, b), np.linalg.solve(A1, b1)\n",
    "print('Norma residuum:', norm1)\n",
    "\n",
    "solution2 = np.linalg.lstsq(A, b, rcond=None)\n",
    "norm2 = main.residual_norm(A, solution2, b)\n",
    "print('\\nMetoda np.linalg.lstsq:')\n",
    "tt2 = %timeit -r 10 -n 100 -o np.linalg.lstsq(A, b, rcond=None)\n",
    "print('Norma residuum:', norm2)\n",
    "\n",
    "q, r = np.linalg.qr(A1)\n",
    "solution3 = sp.linalg.solve_triangular(r, np.transpose(q) @ b1)\n",
    "norm3 = main.residual_norm(A1, solution3, b1)\n",
    "print('\\nMetoda rozkładu QR:')\n",
    "tt3 = %timeit -r 10 -n 100 -o np.linalg.qr(A1), sp.linalg.solve_triangular(r, np.transpose(q) @ b1)\n",
    "print('Norma residuum:', norm3)\n",
    "\n",
    "U, S, V = np.linalg.svd(A, full_matrices=False)\n",
    "S = np.diag(S)\n",
    "solution4 = np.dot(np.transpose(V), np.linalg.solve(S, np.dot(np.transpose(U), b)))\n",
    "norm4 = main.residual_norm(A, solution4, b)\n",
    "print('\\nMetoda rozkładu SVD:')\n",
    "tt4 = %timeit -r 10 -n 100 -o np.linalg.svd(A, full_matrices=False), np.diag(S), np.dot(np.transpose(V), np.linalg.solve(S, np.dot(np.transpose(U), b)))\n",
    "print('Norma residuum:', norm4)"
   ]
  },
  {
   "cell_type": "markdown",
   "metadata": {},
   "source": [
    "***Zadanie 2***  \n",
    "\n",
    "1. Przy użyciu funkcji [random.normal](https://numpy.org/doc/stable/reference/random/generated/numpy.random.normal.html) wygeneruj dwa wektory $\\mathbf{x}_1$ oraz $\\mathbf{x}_2$ o wymiarze (100,1) o wartości średniej równej 0 oraz odchyleniu standardowemu równego 1.\n",
    "\n",
    "2. Na podstawie uzyskanych wektorów wylicz wartości wektora $y$ danego wzorem:\n",
    "$$\n",
    "    y=2+x1-0.5x2+\\epsilon\n",
    "$$\n",
    "gdzie $\\epsilon$ jest wektorem wartości losowtch o wartości średniej równej 0 oraz odchyleniu standardowemu równego 1.\n",
    "\n",
    "3. Przy pomocy funkcji [concatenate](https://numpy.org/doc/stable/reference/generated/numpy.concatenate.html) połącz wektor samych jedynek o wymiarze (100,1) z:\n",
    "\n",
    "- $x_1$,\n",
    "- $x_2$,\n",
    "- $x_1$ i $x_2$\n",
    "\n",
    "z parametrem *axis = 1*.\n",
    "\n",
    "4. Na podstawie macierzy z punktu 3 oblicz współczynniki [regresji liniowych](https://pl.wikipedia.org/wiki/Regresja_liniowa) z wykorzystaniem rozkładu QR, opisanych zależnościami:\n",
    "\n",
    "    1. $y\\sim a+x_1$\n",
    "    2. $y\\sim a+x_2$\n",
    "    3. $y\\sim a+x_1+x_2$\n",
    "    4. $y\\sim a+x_2+x_2$\n",
    "\n",
    "5. Przedstaw otrzymane wyniki na odpowiednich subplotach."
   ]
  },
  {
   "cell_type": "code",
   "execution_count": 10,
   "metadata": {},
   "outputs": [
    {
     "data": {
      "image/png": "[encoded data removed]",
      "text/plain": [
       "<Figure size 576x504 with 4 Axes>"
      ]
     },
     "metadata": {
      "needs_background": "light"
     },
     "output_type": "display_data"
    }
   ],
   "source": [
    "x1 = np.random.normal(0, 1, size=(100, 1))\n",
    "x2 = np.random.normal(0, 1, size=(100, 1))\n",
    "epsilon = np.random.normal(0, 1, size=(100, 1))\n",
    "pred1 = [min(x1), max(x1)]\n",
    "pred2 = [min(x2), max(x2)]\n",
    "\n",
    "y = 2 + x1 - 0.5 * x2 + epsilon \n",
    "ones = np.ones((100, 1))\n",
    "\n",
    "conc1 = np.concatenate((ones, x1), 1)\n",
    "conc2 = np.concatenate((ones, x2), 1)\n",
    "conc3 = np.concatenate((ones, x1, x2), 1)\n",
    "conc4 = np.concatenate((ones, x2, x2), 1)\n",
    "\n",
    "q1, r1 = np.linalg.qr(conc1)\n",
    "reg1 = sp.linalg.solve_triangular(r1, np.transpose(q1) @ y)\n",
    "reg1 = reg1[0] + reg1[1] * pred1\n",
    "\n",
    "q2, r2 = np.linalg.qr(conc2)\n",
    "reg2 = sp.linalg.solve_triangular(r2, np.transpose(q2) @ y)\n",
    "reg2 = reg2[0] + reg2[1] * pred2\n",
    "\n",
    "q3, r3 = np.linalg.qr(conc3)\n",
    "reg3 = sp.linalg.solve_triangular(r3, np.transpose(q3) @ y)\n",
    "reg3 = reg3[0] + reg3[1] * x1 + reg3[2] * x2\n",
    "\n",
    "q4, r4 = np.linalg.qr(conc4)\n",
    "reg4 = sp.linalg.solve_triangular(r4, np.transpose(q4) @ y)\n",
    "reg4 = reg4[0] + reg4[1] * x2 + reg4[2] * x2\n",
    "\n",
    "plt.figure(figsize=(8, 7))\n",
    "plt.subplot(2, 2, 1)\n",
    "plt.plot(pred1, reg1)\n",
    "plt.scatter(x1, y)\n",
    "plt.title('a + x1')\n",
    "\n",
    "plt.subplot(2, 2, 2)\n",
    "plt.plot(pred2, reg2)\n",
    "plt.scatter(x2, y)\n",
    "plt.title('a + x2')\n",
    "\n",
    "plt.subplot(2, 2, 3)\n",
    "plt.plot([min(x1 + x2), max(x1 + x2)], [min(reg3), max(reg3)])\n",
    "plt.scatter(x1 + x2, y)\n",
    "plt.title('a + x1 + x2')\n",
    "\n",
    "plt.subplot(2, 2, 4)\n",
    "plt.plot([max(x2 + x2), min(x2 + x2)], [min(reg4), max(reg4)])\n",
    "plt.scatter(x2 + x2, y)\n",
    "plt.title('a + x2 + x2')\n",
    "\n",
    "plt.show()"
   ]
  },
  {
   "cell_type": "markdown",
   "metadata": {},
   "source": [
    "Wnioski\n",
    "Zapoznałem się z numerycznymi metodami rozwiązywania układów równań liniowych z macierzami prostokątnymi. Porównałem czas wykonywania i zużycie pamięci różnych sposobów rozwiązania takich układów. Wykorzystując rozkład QR policzyłem współczynniki regresji liniowej kilku wyrażeń zawierających wektory losowych wartości rozkładu normalnego."
   ]
  },
  {
   "cell_type": "markdown",
   "metadata": {},
   "source": [
    "Materiały uzupełniające:\n",
    "- [Scipy Lecture Notes](http://www.scipy-lectures.org/index.html)\n",
    "- [NumPy for Matlab users](https://docs.scipy.org/doc/numpy/user/numpy-for-matlab-users.html#numpy-for-matlab-users)\n",
    "- [Python Tutorial - W3Schools](https://www.w3schools.com/python/default.asp)\n",
    "- [NumPy](https://www.numpy.org)\n",
    "- [Matplotlib](https://matplotlib.org/)\n",
    "- [Anaconda](https://www.anaconda.com/)\n",
    "- [Learn Python for Data Science](https://www.datacamp.com/learn-python-with-anaconda?utm_source=Anaconda_download&utm_campaign=datacamp_training&utm_medium=banner)\n",
    "- [Learn Python](https://www.learnpython.org/)\n",
    "- [Wujek Google](https://google.pl) i [Ciocia Wikipedia](https://pl.wikipedia.org/wiki/Wikipedia:Strona_g%C5%82%C3%B3wna)"
   ]
  }
 ],
 "metadata": {
  "kernelspec": {
   "display_name": "Python 3",
   "language": "python",
   "name": "python3"
  },
  "language_info": {
   "codemirror_mode": {
    "name": "ipython",
    "version": 3
   },
   "file_extension": ".py",
   "mimetype": "text/x-python",
   "name": "python",
   "nbconvert_exporter": "python",
   "pygments_lexer": "ipython3",
   "version": "3.8.8"
  }
 },
 "nbformat": 4,
 "nbformat_minor": 2
}
